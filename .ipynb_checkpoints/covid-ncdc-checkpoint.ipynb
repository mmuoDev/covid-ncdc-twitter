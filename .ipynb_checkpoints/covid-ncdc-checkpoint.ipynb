{
 "cells": [
  {
   "cell_type": "code",
   "execution_count": 75,
   "metadata": {},
   "outputs": [],
   "source": [
    "import tweepy\n",
    "import re\n",
    "import json"
   ]
  },
  {
   "cell_type": "code",
   "execution_count": 90,
   "metadata": {},
   "outputs": [],
   "source": [
    "#set auth variables\n",
    "\n",
    "consumer_key=\"xxxxxx\"\n",
    "consumer_secret=\"xxxxxxx\"\n",
    "access_token=\"xxxxxxxxxxxxx\"\n",
    "access_token_secret=\"xxxxxxxxxxxxxxxxxx\"\n"
   ]
  },
  {
   "cell_type": "code",
   "execution_count": 91,
   "metadata": {},
   "outputs": [],
   "source": [
    "# Creating the authentication object\n",
    "auth = tweepy.OAuthHandler(consumer_key, consumer_secret)\n",
    "# Setting your access token and secret\n",
    "auth.set_access_token(access_token, access_token_secret)\n",
    "# Creating the API object while passing in auth information\n",
    "api = tweepy.API(auth) "
   ]
  },
  {
   "cell_type": "code",
   "execution_count": 1,
   "metadata": {},
   "outputs": [
    {
     "ename": "NameError",
     "evalue": "name 'api' is not defined",
     "output_type": "error",
     "traceback": [
      "\u001b[0;31m---------------------------------------------------------------------------\u001b[0m",
      "\u001b[0;31mNameError\u001b[0m                                 Traceback (most recent call last)",
      "\u001b[0;32m<ipython-input-1-918c35b3abf0>\u001b[0m in \u001b[0;36m<module>\u001b[0;34m()\u001b[0m\n\u001b[1;32m      5\u001b[0m \u001b[0;34m\u001b[0m\u001b[0m\n\u001b[1;32m      6\u001b[0m \u001b[0;31m# Calling the user_timeline function with our parameters\u001b[0m\u001b[0;34m\u001b[0m\u001b[0;34m\u001b[0m\u001b[0m\n\u001b[0;32m----> 7\u001b[0;31m \u001b[0mresults\u001b[0m \u001b[0;34m=\u001b[0m \u001b[0mapi\u001b[0m\u001b[0;34m.\u001b[0m\u001b[0muser_timeline\u001b[0m\u001b[0;34m(\u001b[0m\u001b[0mid\u001b[0m\u001b[0;34m=\u001b[0m\u001b[0mname\u001b[0m\u001b[0;34m,\u001b[0m \u001b[0mcount\u001b[0m\u001b[0;34m=\u001b[0m\u001b[0mtweetCount\u001b[0m\u001b[0;34m,\u001b[0m \u001b[0mtweet_mode\u001b[0m\u001b[0;34m=\u001b[0m\u001b[0;34m'extended'\u001b[0m\u001b[0;34m)\u001b[0m\u001b[0;34m\u001b[0m\u001b[0m\n\u001b[0m\u001b[1;32m      8\u001b[0m \u001b[0;34m\u001b[0m\u001b[0m\n\u001b[1;32m      9\u001b[0m \u001b[0;31m# foreach through all tweets pulled\u001b[0m\u001b[0;34m\u001b[0m\u001b[0;34m\u001b[0m\u001b[0m\n",
      "\u001b[0;31mNameError\u001b[0m: name 'api' is not defined"
     ]
    }
   ],
   "source": [
    "# The Twitter user who we want to get tweets from\n",
    "name = \"NCDCgov\"\n",
    "# Number of tweets to pull\n",
    "tweetCount = 20\n",
    "\n",
    "# Calling the user_timeline function with our parameters\n",
    "results = api.user_timeline(id=name, count=tweetCount, tweet_mode='extended')\n",
    "\n",
    "# foreach through all tweets pulled\n",
    "search_1 = \"For a breakdown of cases\"\n",
    "search_2 = \", there are\"\n",
    "#For a breakdown of cases\n",
    "states = [\"Abia\",\n",
    "  \"Adamawa\",\n",
    "  \"Akwa Ibom\",\n",
    "  \"Anambra\",\n",
    "  \"Bauchi\",\n",
    "  \"Bayelsa\",\n",
    "  \"Benue\",\n",
    "  \"Borno\",\n",
    "  \"Cross River\",\n",
    "  \"Delta\",\n",
    "  \"Ebonyi\",\n",
    "  \"Edo\",\n",
    "  \"Ekiti\",\n",
    "  \"Enugu\",\n",
    "  \"FCT\",\n",
    "  \"Gombe\",\n",
    "  \"Imo\",\n",
    "  \"Jigawa\",\n",
    "  \"Kaduna\",\n",
    "  \"Kano\",\n",
    "  \"Katsina\",\n",
    "  \"Kebbi\",\n",
    "  \"Kogi\",\n",
    "  \"Kwara\",\n",
    "  \"Lagos\",\n",
    "  \"Nasarawa\",\n",
    "  \"Niger\",\n",
    "  \"Ogun\",\n",
    "  \"Ondo\",\n",
    "  \"Osun\",\n",
    "  \"Oyo\",\n",
    "  \"Plateau\",\n",
    "  \"Rivers\",\n",
    "  \"Sokoto\",\n",
    "  \"Taraba\",\n",
    "  \"Yobe\",\n",
    "  \"Zamfara\"\n",
    "]\n",
    "array = {}\n",
    "for tweet in results:\n",
    "   # printing the text stored inside the tweet object\n",
    "    full_text = tweet.full_text\n",
    "    if search_1 in full_text or search_2 in full_text:\n",
    "        data = {}\n",
    "        #confirmed cases\n",
    "        confirmed = re.findall('.{0,10}confirmed cases', tweet.full_text)\n",
    "        confirmed_no = confirmed[0].replace('confirmed cases','').strip()\n",
    "        #deaths\n",
    "        death = re.findall('.{0,10} deat', tweet.full_text)\n",
    "        death_no = death[0].replace('deat','').strip()\n",
    "        #discharged\n",
    "        discharged = re.findall('.{0,10} discharged', tweet.full_text)\n",
    "        discharged_no = discharged[0].replace('discharged','').strip()\n",
    "        #put in data\n",
    "        data['confirmed_cases'] = confirmed_no\n",
    "        data['deaths'] = death_no\n",
    "        data['discharged'] = discharged_no\n",
    "        #states\n",
    "        state_data = {}\n",
    "        for j in states:\n",
    "            if j in tweet.full_text:\n",
    "                stat = re.findall('.{0,20}'+j+'.{0,20}', tweet.full_text)\n",
    "                stat_no = stat[0].replace(j+'-','').strip()\n",
    "                state_data[j] = stat_no\n",
    "        data['states'] = state_data\n",
    "        data['tweeted_at'] = tweet.created_at.strftime(\"%Y-%m-%d %H:%M:%S\")\n",
    "        array['status'] = True\n",
    "        array['data'] = data\n",
    "        break\n",
    "    else:\n",
    "        array['status'] = False\n",
    "    \n",
    "print(json.dumps(array))"
   ]
  },
  {
   "cell_type": "code",
   "execution_count": null,
   "metadata": {},
   "outputs": [],
   "source": []
  }
 ],
 "metadata": {
  "kernelspec": {
   "display_name": "Python 3",
   "language": "python",
   "name": "python3"
  },
  "language_info": {
   "codemirror_mode": {
    "name": "ipython",
    "version": 3
   },
   "file_extension": ".py",
   "mimetype": "text/x-python",
   "name": "python",
   "nbconvert_exporter": "python",
   "pygments_lexer": "ipython3",
   "version": "3.6.5"
  }
 },
 "nbformat": 4,
 "nbformat_minor": 2
}
